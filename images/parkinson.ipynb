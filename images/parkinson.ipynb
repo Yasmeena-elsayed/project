{
 "cells": [
  {
   "cell_type": "code",
   "execution_count": 1,
   "metadata": {
    "_cell_guid": "b1076dfc-b9ad-4769-8c92-a6c4dae69d19",
    "_uuid": "8f2839f25d086af736a60e9eeb907d3b93b6e0e5",
    "execution": {
     "iopub.execute_input": "2022-10-31T15:52:31.835090Z",
     "iopub.status.busy": "2022-10-31T15:52:31.834434Z",
     "iopub.status.idle": "2022-10-31T15:52:37.853439Z",
     "shell.execute_reply": "2022-10-31T15:52:37.852371Z",
     "shell.execute_reply.started": "2022-10-31T15:52:31.834977Z"
    }
   },
   "outputs": [],
   "source": [
    "import pandas as pd\n",
    "import numpy as np\n",
    "# from sklearn.preprocessing import PolynomialFeatures\n",
    "from sklearn import decomposition\n",
    "import os\n",
    "import scipy.stats as sc\n",
    "from sklearn.model_selection import train_test_split\n",
    "from sklearn.preprocessing import MinMaxScaler\n",
    "\n",
    "import pandas as pd\n",
    "import numpy as np\n",
    "np.random.seed(1337)  # for reproducibility\n",
    "from keras.models import Sequential\n",
    "from keras.layers import Dense, Dropout, Activation, Embedding\n",
    "from keras.layers import LSTM, SimpleRNN, GRU\n",
    "from keras.utils.np_utils import to_categorical\n",
    "from sklearn.preprocessing import Normalizer\n",
    "from keras import callbacks\n",
    "from keras.callbacks import ModelCheckpoint, EarlyStopping, ReduceLROnPlateau, CSVLogger\n",
    "from tensorflow.keras.utils import to_categorical\n",
    "from itertools import cycle\n",
    "\n",
    "# Model Evaluations\n",
    "from sklearn.metrics import roc_curve\n",
    "from sklearn.metrics import auc\n",
    "from sklearn.metrics import precision_score\n",
    "from sklearn.metrics import recall_score\n",
    "from sklearn.metrics import f1_score\n",
    "from sklearn.metrics import roc_auc_score\n",
    "\n",
    "\n",
    "#Model Graphs\n",
    "from sklearn.metrics import confusion_matrix\n",
    "from sklearn.metrics import ConfusionMatrixDisplay , RocCurveDisplay\n",
    "import matplotlib.pyplot as plt"
   ]
  },
  {
   "cell_type": "code",
   "execution_count": 2,
   "metadata": {
    "execution": {
     "iopub.execute_input": "2022-10-31T15:52:37.856152Z",
     "iopub.status.busy": "2022-10-31T15:52:37.855474Z",
     "iopub.status.idle": "2022-10-31T15:52:47.733757Z",
     "shell.execute_reply": "2022-10-31T15:52:47.732717Z",
     "shell.execute_reply.started": "2022-10-31T15:52:37.856115Z"
    }
   },
   "outputs": [],
   "source": [
    "df_co = pd.read_csv('../input/parkinson-disease-detection/Control.csv', index_col = 0)\n",
    "df_pt = pd.read_csv('../input/parkinson-disease-detection/PD_patient.csv' , index_col = 0)"
   ]
  },
  {
   "cell_type": "code",
   "execution_count": 3,
   "metadata": {
    "execution": {
     "iopub.execute_input": "2022-10-31T15:52:47.735943Z",
     "iopub.status.busy": "2022-10-31T15:52:47.735185Z",
     "iopub.status.idle": "2022-10-31T15:52:47.742774Z",
     "shell.execute_reply": "2022-10-31T15:52:47.741417Z",
     "shell.execute_reply.started": "2022-10-31T15:52:47.735878Z"
    }
   },
   "outputs": [],
   "source": [
    "df_co_len = df_co.shape[0]\n",
    "df_pt_len = df_pt.shape[0]"
   ]
  },
  {
   "cell_type": "code",
   "execution_count": 4,
   "metadata": {
    "execution": {
     "iopub.execute_input": "2022-10-31T15:52:47.746669Z",
     "iopub.status.busy": "2022-10-31T15:52:47.745851Z",
     "iopub.status.idle": "2022-10-31T15:52:47.760874Z",
     "shell.execute_reply": "2022-10-31T15:52:47.759950Z",
     "shell.execute_reply.started": "2022-10-31T15:52:47.746633Z"
    }
   },
   "outputs": [
    {
     "data": {
      "text/plain": [
       "1012740"
      ]
     },
     "execution_count": 4,
     "metadata": {},
     "output_type": "execute_result"
    }
   ],
   "source": [
    "df_co_len"
   ]
  },
  {
   "cell_type": "code",
   "execution_count": 5,
   "metadata": {
    "execution": {
     "iopub.execute_input": "2022-10-31T15:52:47.767553Z",
     "iopub.status.busy": "2022-10-31T15:52:47.765301Z",
     "iopub.status.idle": "2022-10-31T15:52:47.776594Z",
     "shell.execute_reply": "2022-10-31T15:52:47.775627Z",
     "shell.execute_reply.started": "2022-10-31T15:52:47.767516Z"
    }
   },
   "outputs": [
    {
     "data": {
      "text/plain": [
       "2304504"
      ]
     },
     "execution_count": 5,
     "metadata": {},
     "output_type": "execute_result"
    }
   ],
   "source": [
    "df_pt_len"
   ]
  },
  {
   "cell_type": "code",
   "execution_count": 6,
   "metadata": {
    "execution": {
     "iopub.execute_input": "2022-10-31T15:52:47.779079Z",
     "iopub.status.busy": "2022-10-31T15:52:47.778331Z",
     "iopub.status.idle": "2022-10-31T15:52:47.784190Z",
     "shell.execute_reply": "2022-10-31T15:52:47.783090Z",
     "shell.execute_reply.started": "2022-10-31T15:52:47.779041Z"
    }
   },
   "outputs": [],
   "source": [
    "df_co_pca = pd.DataFrame(df_co)\n",
    "df_pt_pca = pd.DataFrame(df_pt)"
   ]
  },
  {
   "cell_type": "code",
   "execution_count": 7,
   "metadata": {
    "execution": {
     "iopub.execute_input": "2022-10-31T15:52:47.786412Z",
     "iopub.status.busy": "2022-10-31T15:52:47.785712Z",
     "iopub.status.idle": "2022-10-31T15:52:48.119919Z",
     "shell.execute_reply": "2022-10-31T15:52:48.118951Z",
     "shell.execute_reply.started": "2022-10-31T15:52:47.786376Z"
    }
   },
   "outputs": [
    {
     "data": {
      "text/plain": [
       "(1012740,)"
      ]
     },
     "execution_count": 7,
     "metadata": {},
     "output_type": "execute_result"
    }
   ],
   "source": [
    "y1 = pd.Series([0]*df_co_len)\n",
    "y1.shape"
   ]
  },
  {
   "cell_type": "code",
   "execution_count": 8,
   "metadata": {
    "execution": {
     "iopub.execute_input": "2022-10-31T15:52:48.122122Z",
     "iopub.status.busy": "2022-10-31T15:52:48.121386Z",
     "iopub.status.idle": "2022-10-31T15:52:48.582865Z",
     "shell.execute_reply": "2022-10-31T15:52:48.581939Z",
     "shell.execute_reply.started": "2022-10-31T15:52:48.122081Z"
    }
   },
   "outputs": [
    {
     "data": {
      "text/plain": [
       "(2304504,)"
      ]
     },
     "execution_count": 8,
     "metadata": {},
     "output_type": "execute_result"
    }
   ],
   "source": [
    "y2 = pd.Series([1]*df_pt_len, index = range(df_co_len-1,(df_co_len + df_pt_len)-1))\n",
    "y2.shape"
   ]
  },
  {
   "cell_type": "code",
   "execution_count": 9,
   "metadata": {
    "execution": {
     "iopub.execute_input": "2022-10-31T15:52:48.584649Z",
     "iopub.status.busy": "2022-10-31T15:52:48.584209Z",
     "iopub.status.idle": "2022-10-31T15:52:48.610885Z",
     "shell.execute_reply": "2022-10-31T15:52:48.609762Z",
     "shell.execute_reply.started": "2022-10-31T15:52:48.584612Z"
    }
   },
   "outputs": [
    {
     "data": {
      "text/plain": [
       "(3317244,)"
      ]
     },
     "execution_count": 9,
     "metadata": {},
     "output_type": "execute_result"
    }
   ],
   "source": [
    "y = pd.concat([y1,y2]) \n",
    "y.shape"
   ]
  },
  {
   "cell_type": "code",
   "execution_count": 10,
   "metadata": {
    "execution": {
     "iopub.execute_input": "2022-10-31T15:52:48.616774Z",
     "iopub.status.busy": "2022-10-31T15:52:48.616498Z",
     "iopub.status.idle": "2022-10-31T15:52:48.788275Z",
     "shell.execute_reply": "2022-10-31T15:52:48.787304Z",
     "shell.execute_reply.started": "2022-10-31T15:52:48.616749Z"
    }
   },
   "outputs": [],
   "source": [
    "X = pd.concat([df_co_pca, df_pt_pca])"
   ]
  },
  {
   "cell_type": "code",
   "execution_count": 11,
   "metadata": {
    "execution": {
     "iopub.execute_input": "2022-10-31T15:52:48.790156Z",
     "iopub.status.busy": "2022-10-31T15:52:48.789687Z",
     "iopub.status.idle": "2022-10-31T15:52:48.797219Z",
     "shell.execute_reply": "2022-10-31T15:52:48.796113Z",
     "shell.execute_reply.started": "2022-10-31T15:52:48.790119Z"
    }
   },
   "outputs": [
    {
     "data": {
      "text/plain": [
       "(3317244, 18)"
      ]
     },
     "execution_count": 11,
     "metadata": {},
     "output_type": "execute_result"
    }
   ],
   "source": [
    "X.shape"
   ]
  },
  {
   "cell_type": "code",
   "execution_count": 12,
   "metadata": {
    "execution": {
     "iopub.execute_input": "2022-10-31T15:52:48.799224Z",
     "iopub.status.busy": "2022-10-31T15:52:48.798850Z",
     "iopub.status.idle": "2022-10-31T15:52:48.811422Z",
     "shell.execute_reply": "2022-10-31T15:52:48.810184Z",
     "shell.execute_reply.started": "2022-10-31T15:52:48.799184Z"
    }
   },
   "outputs": [
    {
     "data": {
      "text/plain": [
       "0          0\n",
       "1          0\n",
       "2          0\n",
       "3          0\n",
       "4          0\n",
       "          ..\n",
       "3317233    1\n",
       "3317234    1\n",
       "3317235    1\n",
       "3317236    1\n",
       "3317237    1\n",
       "Length: 3317239, dtype: int64"
      ]
     },
     "execution_count": 12,
     "metadata": {},
     "output_type": "execute_result"
    }
   ],
   "source": [
    "y.head(-5)"
   ]
  },
  {
   "cell_type": "code",
   "execution_count": 13,
   "metadata": {
    "execution": {
     "iopub.execute_input": "2022-10-31T15:52:48.813697Z",
     "iopub.status.busy": "2022-10-31T15:52:48.813282Z",
     "iopub.status.idle": "2022-10-31T15:52:50.284158Z",
     "shell.execute_reply": "2022-10-31T15:52:50.283183Z",
     "shell.execute_reply.started": "2022-10-31T15:52:48.813655Z"
    }
   },
   "outputs": [],
   "source": [
    "X_train, X_test, y_train1, y_test1 = train_test_split(X, y, shuffle=True)\n",
    "y_train = pd.DataFrame(y_train1)\n",
    "y_test = pd.DataFrame(y_test1)\n",
    "\n",
    "scaler = MinMaxScaler().fit(X_train)\n",
    "X_train = scaler.transform(X_train)\n",
    "X_test = scaler.transform(X_test)"
   ]
  },
  {
   "cell_type": "code",
   "execution_count": 14,
   "metadata": {
    "execution": {
     "iopub.execute_input": "2022-10-31T15:52:50.286255Z",
     "iopub.status.busy": "2022-10-31T15:52:50.285418Z",
     "iopub.status.idle": "2022-10-31T15:52:50.292397Z",
     "shell.execute_reply": "2022-10-31T15:52:50.291150Z",
     "shell.execute_reply.started": "2022-10-31T15:52:50.286216Z"
    }
   },
   "outputs": [],
   "source": [
    "# reshape input to be [samples, time steps, features]\n",
    "X_train = np.reshape(X_train, (X_train.shape[0], 1, X_train.shape[1]))\n",
    "X_test = np.reshape(X_test, (X_test.shape[0], 1, X_test.shape[1]))"
   ]
  },
  {
   "cell_type": "code",
   "execution_count": 15,
   "metadata": {
    "execution": {
     "iopub.execute_input": "2022-10-31T15:52:50.294220Z",
     "iopub.status.busy": "2022-10-31T15:52:50.293813Z",
     "iopub.status.idle": "2022-10-31T15:52:53.697770Z",
     "shell.execute_reply": "2022-10-31T15:52:53.696732Z",
     "shell.execute_reply.started": "2022-10-31T15:52:50.294183Z"
    }
   },
   "outputs": [
    {
     "name": "stderr",
     "output_type": "stream",
     "text": [
      "2022-10-31 15:52:50.388468: I tensorflow/stream_executor/cuda/cuda_gpu_executor.cc:937] successful NUMA node read from SysFS had negative value (-1), but there must be at least one NUMA node, so returning NUMA node zero\n",
      "2022-10-31 15:52:50.486644: I tensorflow/stream_executor/cuda/cuda_gpu_executor.cc:937] successful NUMA node read from SysFS had negative value (-1), but there must be at least one NUMA node, so returning NUMA node zero\n",
      "2022-10-31 15:52:50.487503: I tensorflow/stream_executor/cuda/cuda_gpu_executor.cc:937] successful NUMA node read from SysFS had negative value (-1), but there must be at least one NUMA node, so returning NUMA node zero\n",
      "2022-10-31 15:52:50.489200: I tensorflow/core/platform/cpu_feature_guard.cc:142] This TensorFlow binary is optimized with oneAPI Deep Neural Network Library (oneDNN) to use the following CPU instructions in performance-critical operations:  AVX2 AVX512F FMA\n",
      "To enable them in other operations, rebuild TensorFlow with the appropriate compiler flags.\n",
      "2022-10-31 15:52:50.489531: I tensorflow/stream_executor/cuda/cuda_gpu_executor.cc:937] successful NUMA node read from SysFS had negative value (-1), but there must be at least one NUMA node, so returning NUMA node zero\n",
      "2022-10-31 15:52:50.490245: I tensorflow/stream_executor/cuda/cuda_gpu_executor.cc:937] successful NUMA node read from SysFS had negative value (-1), but there must be at least one NUMA node, so returning NUMA node zero\n",
      "2022-10-31 15:52:50.490875: I tensorflow/stream_executor/cuda/cuda_gpu_executor.cc:937] successful NUMA node read from SysFS had negative value (-1), but there must be at least one NUMA node, so returning NUMA node zero\n",
      "2022-10-31 15:52:52.634091: I tensorflow/stream_executor/cuda/cuda_gpu_executor.cc:937] successful NUMA node read from SysFS had negative value (-1), but there must be at least one NUMA node, so returning NUMA node zero\n",
      "2022-10-31 15:52:52.634942: I tensorflow/stream_executor/cuda/cuda_gpu_executor.cc:937] successful NUMA node read from SysFS had negative value (-1), but there must be at least one NUMA node, so returning NUMA node zero\n",
      "2022-10-31 15:52:52.635693: I tensorflow/stream_executor/cuda/cuda_gpu_executor.cc:937] successful NUMA node read from SysFS had negative value (-1), but there must be at least one NUMA node, so returning NUMA node zero\n",
      "2022-10-31 15:52:52.636350: I tensorflow/core/common_runtime/gpu/gpu_device.cc:1510] Created device /job:localhost/replica:0/task:0/device:GPU:0 with 15401 MB memory:  -> device: 0, name: Tesla P100-PCIE-16GB, pci bus id: 0000:00:04.0, compute capability: 6.0\n"
     ]
    },
    {
     "name": "stdout",
     "output_type": "stream",
     "text": [
      "Model: \"sequential\"\n",
      "_________________________________________________________________\n",
      "Layer (type)                 Output Shape              Param #   \n",
      "=================================================================\n",
      "lstm (LSTM)                  (None, None, 128)         75264     \n",
      "_________________________________________________________________\n",
      "lstm_1 (LSTM)                (None, None, 128)         131584    \n",
      "_________________________________________________________________\n",
      "dropout (Dropout)            (None, None, 128)         0         \n",
      "_________________________________________________________________\n",
      "lstm_2 (LSTM)                (None, 64)                49408     \n",
      "_________________________________________________________________\n",
      "dense (Dense)                (None, 2)                 130       \n",
      "_________________________________________________________________\n",
      "activation (Activation)      (None, 2)                 0         \n",
      "=================================================================\n",
      "Total params: 256,386\n",
      "Trainable params: 256,386\n",
      "Non-trainable params: 0\n",
      "_________________________________________________________________\n"
     ]
    }
   ],
   "source": [
    "model = Sequential()\n",
    "model.add(LSTM(128,input_dim=18, return_sequences=True)) \n",
    "model.add(LSTM(128,return_sequences=True))\n",
    "model.add(Dropout(0.3)) \n",
    "model.add(LSTM(64, return_sequences=False))  \n",
    "model.add(Dense(2))\n",
    "model.add(Activation('softmax'))\n",
    "model.summary()"
   ]
  },
  {
   "cell_type": "code",
   "execution_count": 16,
   "metadata": {
    "execution": {
     "iopub.execute_input": "2022-10-31T15:52:53.699609Z",
     "iopub.status.busy": "2022-10-31T15:52:53.699260Z",
     "iopub.status.idle": "2022-10-31T15:52:53.714622Z",
     "shell.execute_reply": "2022-10-31T15:52:53.713538Z",
     "shell.execute_reply.started": "2022-10-31T15:52:53.699574Z"
    }
   },
   "outputs": [],
   "source": [
    "from tensorflow import keras\n",
    "model.compile(loss='categorical_crossentropy',optimizer='adam',metrics=['accuracy'])"
   ]
  },
  {
   "cell_type": "code",
   "execution_count": 17,
   "metadata": {
    "execution": {
     "iopub.execute_input": "2022-10-31T15:52:53.718180Z",
     "iopub.status.busy": "2022-10-31T15:52:53.716834Z",
     "iopub.status.idle": "2022-10-31T15:52:53.785864Z",
     "shell.execute_reply": "2022-10-31T15:52:53.784858Z",
     "shell.execute_reply.started": "2022-10-31T15:52:53.718141Z"
    }
   },
   "outputs": [],
   "source": [
    "y_train = keras.utils.to_categorical(y_train, num_classes=2)\n",
    "y_test = keras.utils.to_categorical(y_test, num_classes=2)"
   ]
  },
  {
   "cell_type": "code",
   "execution_count": 18,
   "metadata": {
    "execution": {
     "iopub.execute_input": "2022-10-31T15:52:53.787950Z",
     "iopub.status.busy": "2022-10-31T15:52:53.787286Z",
     "iopub.status.idle": "2022-10-31T15:52:54.596568Z",
     "shell.execute_reply": "2022-10-31T15:52:54.595590Z",
     "shell.execute_reply.started": "2022-10-31T15:52:53.787884Z"
    }
   },
   "outputs": [],
   "source": [
    "X_train, X_val, y_train, y_val= train_test_split(X_train, y_train , test_size= 0.1 , random_state=42)"
   ]
  },
  {
   "cell_type": "code",
   "execution_count": 19,
   "metadata": {
    "execution": {
     "iopub.execute_input": "2022-10-31T15:52:54.598230Z",
     "iopub.status.busy": "2022-10-31T15:52:54.597848Z",
     "iopub.status.idle": "2022-10-31T15:52:54.604112Z",
     "shell.execute_reply": "2022-10-31T15:52:54.603073Z",
     "shell.execute_reply.started": "2022-10-31T15:52:54.598195Z"
    }
   },
   "outputs": [],
   "source": [
    "from keras.callbacks import ModelCheckpoint, EarlyStopping, ReduceLROnPlateau\n",
    "\n",
    "es = EarlyStopping(verbose=1, patience=3)"
   ]
  },
  {
   "cell_type": "code",
   "execution_count": 20,
   "metadata": {
    "execution": {
     "iopub.execute_input": "2022-10-31T15:52:54.606559Z",
     "iopub.status.busy": "2022-10-31T15:52:54.605880Z",
     "iopub.status.idle": "2022-10-31T16:52:09.077152Z",
     "shell.execute_reply": "2022-10-31T16:52:09.076002Z",
     "shell.execute_reply.started": "2022-10-31T15:52:54.606522Z"
    }
   },
   "outputs": [
    {
     "name": "stderr",
     "output_type": "stream",
     "text": [
      "2022-10-31 15:52:55.035292: I tensorflow/compiler/mlir/mlir_graph_optimization_pass.cc:185] None of the MLIR Optimization Passes are enabled (registered 2)\n"
     ]
    },
    {
     "name": "stdout",
     "output_type": "stream",
     "text": [
      "Epoch 1/200\n"
     ]
    },
    {
     "name": "stderr",
     "output_type": "stream",
     "text": [
      "2022-10-31 15:52:59.668387: I tensorflow/stream_executor/cuda/cuda_dnn.cc:369] Loaded cuDNN version 8005\n"
     ]
    },
    {
     "name": "stdout",
     "output_type": "stream",
     "text": [
      "8747/8747 [==============================] - 60s 6ms/step - loss: 0.5333 - accuracy: 0.7396 - val_loss: 0.4890 - val_accuracy: 0.7661\n",
      "Epoch 2/200\n",
      "8747/8747 [==============================] - 53s 6ms/step - loss: 0.4600 - accuracy: 0.7823 - val_loss: 0.4095 - val_accuracy: 0.8129\n",
      "Epoch 3/200\n",
      "8747/8747 [==============================] - 55s 6ms/step - loss: 0.3779 - accuracy: 0.8300 - val_loss: 0.3112 - val_accuracy: 0.8643\n",
      "Epoch 4/200\n",
      "8747/8747 [==============================] - 53s 6ms/step - loss: 0.2999 - accuracy: 0.8700 - val_loss: 0.2274 - val_accuracy: 0.9068\n",
      "Epoch 5/200\n",
      "8747/8747 [==============================] - 54s 6ms/step - loss: 0.2458 - accuracy: 0.8969 - val_loss: 0.1795 - val_accuracy: 0.9289\n",
      "Epoch 6/200\n",
      "8747/8747 [==============================] - 54s 6ms/step - loss: 0.2114 - accuracy: 0.9137 - val_loss: 0.1500 - val_accuracy: 0.9417\n",
      "Epoch 7/200\n",
      "8747/8747 [==============================] - 56s 6ms/step - loss: 0.1890 - accuracy: 0.9239 - val_loss: 0.1293 - val_accuracy: 0.9505\n",
      "Epoch 8/200\n",
      "8747/8747 [==============================] - 54s 6ms/step - loss: 0.1730 - accuracy: 0.9313 - val_loss: 0.1156 - val_accuracy: 0.9561\n",
      "Epoch 9/200\n",
      "8747/8747 [==============================] - 54s 6ms/step - loss: 0.1610 - accuracy: 0.9364 - val_loss: 0.1063 - val_accuracy: 0.9603\n",
      "Epoch 10/200\n",
      "8747/8747 [==============================] - 54s 6ms/step - loss: 0.1511 - accuracy: 0.9409 - val_loss: 0.1004 - val_accuracy: 0.9625\n",
      "Epoch 11/200\n",
      "8747/8747 [==============================] - 53s 6ms/step - loss: 0.1428 - accuracy: 0.9446 - val_loss: 0.0923 - val_accuracy: 0.9654\n",
      "Epoch 12/200\n",
      "8747/8747 [==============================] - 56s 6ms/step - loss: 0.1357 - accuracy: 0.9473 - val_loss: 0.0865 - val_accuracy: 0.9677\n",
      "Epoch 13/200\n",
      "8747/8747 [==============================] - 54s 6ms/step - loss: 0.1302 - accuracy: 0.9499 - val_loss: 0.0812 - val_accuracy: 0.9699\n",
      "Epoch 14/200\n",
      "8747/8747 [==============================] - 53s 6ms/step - loss: 0.1249 - accuracy: 0.9521 - val_loss: 0.0782 - val_accuracy: 0.9711\n",
      "Epoch 15/200\n",
      "8747/8747 [==============================] - 54s 6ms/step - loss: 0.1198 - accuracy: 0.9541 - val_loss: 0.0748 - val_accuracy: 0.9723\n",
      "Epoch 16/200\n",
      "8747/8747 [==============================] - 57s 7ms/step - loss: 0.1158 - accuracy: 0.9559 - val_loss: 0.0691 - val_accuracy: 0.9743\n",
      "Epoch 17/200\n",
      "8747/8747 [==============================] - 54s 6ms/step - loss: 0.1122 - accuracy: 0.9572 - val_loss: 0.0673 - val_accuracy: 0.9749\n",
      "Epoch 18/200\n",
      "8747/8747 [==============================] - 53s 6ms/step - loss: 0.1086 - accuracy: 0.9587 - val_loss: 0.0646 - val_accuracy: 0.9763\n",
      "Epoch 19/200\n",
      "8747/8747 [==============================] - 54s 6ms/step - loss: 0.1055 - accuracy: 0.9599 - val_loss: 0.0622 - val_accuracy: 0.9771\n",
      "Epoch 20/200\n",
      "8747/8747 [==============================] - 56s 6ms/step - loss: 0.1029 - accuracy: 0.9609 - val_loss: 0.0599 - val_accuracy: 0.9779\n",
      "Epoch 21/200\n",
      "8747/8747 [==============================] - 55s 6ms/step - loss: 0.1002 - accuracy: 0.9620 - val_loss: 0.0592 - val_accuracy: 0.9779\n",
      "Epoch 22/200\n",
      "8747/8747 [==============================] - 55s 6ms/step - loss: 0.0982 - accuracy: 0.9628 - val_loss: 0.0586 - val_accuracy: 0.9782\n",
      "Epoch 23/200\n",
      "8747/8747 [==============================] - 54s 6ms/step - loss: 0.0956 - accuracy: 0.9639 - val_loss: 0.0561 - val_accuracy: 0.9792\n",
      "Epoch 24/200\n",
      "8747/8747 [==============================] - 53s 6ms/step - loss: 0.0939 - accuracy: 0.9645 - val_loss: 0.0530 - val_accuracy: 0.9804\n",
      "Epoch 25/200\n",
      "8747/8747 [==============================] - 53s 6ms/step - loss: 0.0918 - accuracy: 0.9652 - val_loss: 0.0518 - val_accuracy: 0.9808\n",
      "Epoch 26/200\n",
      "8747/8747 [==============================] - 53s 6ms/step - loss: 0.0896 - accuracy: 0.9663 - val_loss: 0.0505 - val_accuracy: 0.9812\n",
      "Epoch 27/200\n",
      "8747/8747 [==============================] - 54s 6ms/step - loss: 0.0884 - accuracy: 0.9668 - val_loss: 0.0504 - val_accuracy: 0.9812\n",
      "Epoch 28/200\n",
      "8747/8747 [==============================] - 56s 6ms/step - loss: 0.0865 - accuracy: 0.9675 - val_loss: 0.0497 - val_accuracy: 0.9813\n",
      "Epoch 29/200\n",
      "8747/8747 [==============================] - 54s 6ms/step - loss: 0.0853 - accuracy: 0.9679 - val_loss: 0.0480 - val_accuracy: 0.9819\n",
      "Epoch 30/200\n",
      "8747/8747 [==============================] - 54s 6ms/step - loss: 0.0837 - accuracy: 0.9683 - val_loss: 0.0464 - val_accuracy: 0.9825\n",
      "Epoch 31/200\n",
      "8747/8747 [==============================] - 55s 6ms/step - loss: 0.0825 - accuracy: 0.9689 - val_loss: 0.0470 - val_accuracy: 0.9824\n",
      "Epoch 32/200\n",
      "8747/8747 [==============================] - 53s 6ms/step - loss: 0.0811 - accuracy: 0.9696 - val_loss: 0.0451 - val_accuracy: 0.9831\n",
      "Epoch 33/200\n",
      "8747/8747 [==============================] - 53s 6ms/step - loss: 0.0797 - accuracy: 0.9700 - val_loss: 0.0448 - val_accuracy: 0.9830\n",
      "Epoch 34/200\n",
      "8747/8747 [==============================] - 54s 6ms/step - loss: 0.0789 - accuracy: 0.9702 - val_loss: 0.0441 - val_accuracy: 0.9834\n",
      "Epoch 35/200\n",
      "8747/8747 [==============================] - 53s 6ms/step - loss: 0.0775 - accuracy: 0.9707 - val_loss: 0.0429 - val_accuracy: 0.9838\n",
      "Epoch 36/200\n",
      "8747/8747 [==============================] - 53s 6ms/step - loss: 0.0771 - accuracy: 0.9710 - val_loss: 0.0441 - val_accuracy: 0.9832\n",
      "Epoch 37/200\n",
      "8747/8747 [==============================] - 53s 6ms/step - loss: 0.0756 - accuracy: 0.9715 - val_loss: 0.0412 - val_accuracy: 0.9843\n",
      "Epoch 38/200\n",
      "8747/8747 [==============================] - 53s 6ms/step - loss: 0.0747 - accuracy: 0.9718 - val_loss: 0.0423 - val_accuracy: 0.9840\n",
      "Epoch 39/200\n",
      "8747/8747 [==============================] - 53s 6ms/step - loss: 0.0738 - accuracy: 0.9722 - val_loss: 0.0402 - val_accuracy: 0.9847\n",
      "Epoch 40/200\n",
      "8747/8747 [==============================] - 53s 6ms/step - loss: 0.0727 - accuracy: 0.9727 - val_loss: 0.0396 - val_accuracy: 0.9851\n",
      "Epoch 41/200\n",
      "8747/8747 [==============================] - 53s 6ms/step - loss: 0.0720 - accuracy: 0.9729 - val_loss: 0.0390 - val_accuracy: 0.9852\n",
      "Epoch 42/200\n",
      "8747/8747 [==============================] - 53s 6ms/step - loss: 0.0714 - accuracy: 0.9732 - val_loss: 0.0394 - val_accuracy: 0.9851\n",
      "Epoch 43/200\n",
      "8747/8747 [==============================] - 53s 6ms/step - loss: 0.0690 - accuracy: 0.9740 - val_loss: 0.0370 - val_accuracy: 0.9860\n",
      "Epoch 46/200\n",
      "8747/8747 [==============================] - 53s 6ms/step - loss: 0.0683 - accuracy: 0.9742 - val_loss: 0.0383 - val_accuracy: 0.9854\n",
      "Epoch 47/200\n",
      "8747/8747 [==============================] - 54s 6ms/step - loss: 0.0680 - accuracy: 0.9743 - val_loss: 0.0375 - val_accuracy: 0.9859\n",
      "Epoch 48/200\n",
      "8747/8747 [==============================] - 53s 6ms/step - loss: 0.0670 - accuracy: 0.9747 - val_loss: 0.0366 - val_accuracy: 0.9860\n",
      "Epoch 49/200\n",
      "8747/8747 [==============================] - 53s 6ms/step - loss: 0.0665 - accuracy: 0.9749 - val_loss: 0.0368 - val_accuracy: 0.9860\n",
      "Epoch 50/200\n",
      "8747/8747 [==============================] - 56s 6ms/step - loss: 0.0657 - accuracy: 0.9753 - val_loss: 0.0352 - val_accuracy: 0.9866\n",
      "Epoch 51/200\n",
      "8747/8747 [==============================] - 53s 6ms/step - loss: 0.0653 - accuracy: 0.9755 - val_loss: 0.0355 - val_accuracy: 0.9865\n",
      "Epoch 52/200\n",
      "8747/8747 [==============================] - 53s 6ms/step - loss: 0.0647 - accuracy: 0.9756 - val_loss: 0.0347 - val_accuracy: 0.9866\n",
      "Epoch 53/200\n",
      "8747/8747 [==============================] - 54s 6ms/step - loss: 0.0642 - accuracy: 0.9758 - val_loss: 0.0345 - val_accuracy: 0.9867\n",
      "Epoch 54/200\n",
      "8747/8747 [==============================] - 53s 6ms/step - loss: 0.0638 - accuracy: 0.9759 - val_loss: 0.0337 - val_accuracy: 0.9872\n",
      "Epoch 55/200\n",
      "8747/8747 [==============================] - 53s 6ms/step - loss: 0.0632 - accuracy: 0.9761 - val_loss: 0.0341 - val_accuracy: 0.9871\n",
      "Epoch 56/200\n",
      "8747/8747 [==============================] - 53s 6ms/step - loss: 0.0627 - accuracy: 0.9764 - val_loss: 0.0340 - val_accuracy: 0.9869\n",
      "Epoch 57/200\n",
      "8747/8747 [==============================] - 54s 6ms/step - loss: 0.0619 - accuracy: 0.9767 - val_loss: 0.0331 - val_accuracy: 0.9874\n",
      "Epoch 58/200\n",
      "8747/8747 [==============================] - 54s 6ms/step - loss: 0.0617 - accuracy: 0.9767 - val_loss: 0.0336 - val_accuracy: 0.9871\n",
      "Epoch 59/200\n",
      "8747/8747 [==============================] - 53s 6ms/step - loss: 0.0610 - accuracy: 0.9770 - val_loss: 0.0327 - val_accuracy: 0.9872\n",
      "Epoch 60/200\n",
      "8747/8747 [==============================] - 53s 6ms/step - loss: 0.0609 - accuracy: 0.9769 - val_loss: 0.0340 - val_accuracy: 0.9867\n",
      "Epoch 61/200\n",
      "8747/8747 [==============================] - 53s 6ms/step - loss: 0.0603 - accuracy: 0.9772 - val_loss: 0.0317 - val_accuracy: 0.9877\n",
      "Epoch 62/200\n",
      "8747/8747 [==============================] - 53s 6ms/step - loss: 0.0596 - accuracy: 0.9774 - val_loss: 0.0328 - val_accuracy: 0.9873\n",
      "Epoch 63/200\n",
      "8747/8747 [==============================] - 54s 6ms/step - loss: 0.0594 - accuracy: 0.9775 - val_loss: 0.0310 - val_accuracy: 0.9879\n",
      "Epoch 64/200\n",
      "8747/8747 [==============================] - 53s 6ms/step - loss: 0.0591 - accuracy: 0.9776 - val_loss: 0.0315 - val_accuracy: 0.9878\n",
      "Epoch 65/200\n",
      "8747/8747 [==============================] - 53s 6ms/step - loss: 0.0585 - accuracy: 0.9779 - val_loss: 0.0312 - val_accuracy: 0.9879\n",
      "Epoch 66/200\n",
      "8747/8747 [==============================] - 53s 6ms/step - loss: 0.0580 - accuracy: 0.9781 - val_loss: 0.0310 - val_accuracy: 0.9880\n",
      "Epoch 00066: early stopping\n"
     ]
    }
   ],
   "source": [
    "history = model.fit(X_train, y_train, batch_size=256, epochs=200, validation_data=(X_val, y_val),callbacks=[es])"
   ]
  },
  {
   "cell_type": "code",
   "execution_count": 21,
   "metadata": {
    "execution": {
     "iopub.execute_input": "2022-10-31T16:52:09.079326Z",
     "iopub.status.busy": "2022-10-31T16:52:09.078977Z",
     "iopub.status.idle": "2022-10-31T16:52:09.100204Z",
     "shell.execute_reply": "2022-10-31T16:52:09.099334Z",
     "shell.execute_reply.started": "2022-10-31T16:52:09.079290Z"
    }
   },
   "outputs": [],
   "source": [
    "model.save_weights(\"lstm.h5\")"
   ]
  },
  {
   "cell_type": "code",
   "execution_count": 22,
   "metadata": {
    "execution": {
     "iopub.execute_input": "2022-10-31T16:52:09.102295Z",
     "iopub.status.busy": "2022-10-31T16:52:09.101530Z",
     "iopub.status.idle": "2022-10-31T16:52:09.110615Z",
     "shell.execute_reply": "2022-10-31T16:52:09.109487Z",
     "shell.execute_reply.started": "2022-10-31T16:52:09.102259Z"
    }
   },
   "outputs": [
    {
     "data": {
      "text/html": [
       "<a href='./lstm.h5' target='_blank'>./lstm.h5</a><br>"
      ],
      "text/plain": [
       "/kaggle/working/lstm.h5"
      ]
     },
     "execution_count": 22,
     "metadata": {},
     "output_type": "execute_result"
    }
   ],
   "source": [
    "from IPython.display import FileLink\n",
    "FileLink(\"./lstm.h5\")"
   ]
  },
  {
   "cell_type": "code",
   "execution_count": 23,
   "metadata": {
    "execution": {
     "iopub.execute_input": "2022-10-31T16:52:09.112750Z",
     "iopub.status.busy": "2022-10-31T16:52:09.112121Z",
     "iopub.status.idle": "2022-10-31T16:53:43.456339Z",
     "shell.execute_reply": "2022-10-31T16:53:43.455335Z",
     "shell.execute_reply.started": "2022-10-31T16:52:09.112712Z"
    }
   },
   "outputs": [],
   "source": [
    "y_pred = model.predict(X_test)\n",
    "\n",
    "# For evaluation\n",
    "y_pred_evaluation = to_categorical(np.argmax(y_pred, axis=1), 2)\n",
    "\n",
    "# Using it in AUC & Confusion Matrix\n",
    "y_pred_argmax=(np.argmax(y_pred, axis=1))\n",
    "y_test_argmax=(np.argmax(y_test, axis=1))"
   ]
  },
  {
   "cell_type": "code",
   "execution_count": 24,
   "metadata": {
    "execution": {
     "iopub.execute_input": "2022-10-31T16:53:43.458218Z",
     "iopub.status.busy": "2022-10-31T16:53:43.457845Z",
     "iopub.status.idle": "2022-10-31T16:53:43.465329Z",
     "shell.execute_reply": "2022-10-31T16:53:43.464240Z",
     "shell.execute_reply.started": "2022-10-31T16:53:43.458180Z"
    }
   },
   "outputs": [],
   "source": [
    "def Evaluate(X_test , y_test):\n",
    "    loss, accuracy = model.evaluate(X_test, y_test)\n",
    "    print(\"\\nLoss: %.2f, Accuracy: %.2f%%\" % (loss, accuracy*100))"
   ]
  },
  {
   "cell_type": "code",
   "execution_count": 25,
   "metadata": {
    "execution": {
     "iopub.execute_input": "2022-10-31T16:53:43.467669Z",
     "iopub.status.busy": "2022-10-31T16:53:43.467232Z",
     "iopub.status.idle": "2022-10-31T16:53:43.475133Z",
     "shell.execute_reply": "2022-10-31T16:53:43.474163Z",
     "shell.execute_reply.started": "2022-10-31T16:53:43.467634Z"
    }
   },
   "outputs": [],
   "source": [
    "def precision(y_test , y_pred, average):\n",
    "    PrecisionScore = precision_score(y_test, y_pred , average=average) \n",
    "    return PrecisionScore"
   ]
  },
  {
   "cell_type": "code",
   "execution_count": 26,
   "metadata": {
    "execution": {
     "iopub.execute_input": "2022-10-31T16:53:43.476968Z",
     "iopub.status.busy": "2022-10-31T16:53:43.476612Z",
     "iopub.status.idle": "2022-10-31T16:53:43.485346Z",
     "shell.execute_reply": "2022-10-31T16:53:43.484381Z",
     "shell.execute_reply.started": "2022-10-31T16:53:43.476935Z"
    }
   },
   "outputs": [],
   "source": [
    "def recall(y_test , y_pred, average):\n",
    "    RecallScore = recall_score(y_test, y_pred , average=average) \n",
    "    return  RecallScore"
   ]
  },
  {
   "cell_type": "code",
   "execution_count": 27,
   "metadata": {
    "execution": {
     "iopub.execute_input": "2022-10-31T16:53:43.488125Z",
     "iopub.status.busy": "2022-10-31T16:53:43.486714Z",
     "iopub.status.idle": "2022-10-31T16:53:43.495864Z",
     "shell.execute_reply": "2022-10-31T16:53:43.494841Z",
     "shell.execute_reply.started": "2022-10-31T16:53:43.488091Z"
    }
   },
   "outputs": [],
   "source": [
    "def F1Score(y_test , y_pred, average):\n",
    "    F1Score = f1_score(y_test, y_pred , average=average) \n",
    "    return F1Score"
   ]
  },
  {
   "cell_type": "code",
   "execution_count": 28,
   "metadata": {
    "execution": {
     "iopub.execute_input": "2022-10-31T16:53:43.501877Z",
     "iopub.status.busy": "2022-10-31T16:53:43.501593Z",
     "iopub.status.idle": "2022-10-31T16:53:43.509498Z",
     "shell.execute_reply": "2022-10-31T16:53:43.508337Z",
     "shell.execute_reply.started": "2022-10-31T16:53:43.501820Z"
    }
   },
   "outputs": [],
   "source": [
    "def AUC(actual_class, pred_class, average = \"micro\"):\n",
    "    \n",
    "    #Making a set of all the unique classes \n",
    "    unique_class = set(actual_class)\n",
    "    roc_auc_dict = {}\n",
    "    for per_class in unique_class:\n",
    "        \n",
    "        #Making a list of all the classes except the current class \n",
    "        other_class = [x for x in unique_class if x != per_class]\n",
    "\n",
    "        #Making the current class with label 1 and all other classes as a label 0\n",
    "        new_actual_class = [0 if x in other_class else 1 for x in actual_class]\n",
    "        new_pred_class = [0 if x in other_class else 1 for x in pred_class]\n",
    "\n",
    "        # Calculating the roc_auc_score\n",
    "        roc_auc = roc_auc_score(new_actual_class, new_pred_class, average = average)\n",
    "        roc_auc_dict[per_class] = roc_auc\n",
    "\n",
    "    return roc_auc_dict"
   ]
  },
  {
   "cell_type": "code",
   "execution_count": 29,
   "metadata": {
    "execution": {
     "iopub.execute_input": "2022-10-31T16:53:43.511804Z",
     "iopub.status.busy": "2022-10-31T16:53:43.511222Z",
     "iopub.status.idle": "2022-10-31T16:53:43.527196Z",
     "shell.execute_reply": "2022-10-31T16:53:43.526273Z",
     "shell.execute_reply.started": "2022-10-31T16:53:43.511770Z"
    }
   },
   "outputs": [],
   "source": [
    "def plot_roc_curve(y_test,y_pred):\n",
    "    n_classes=2\n",
    "    fpr = dict()\n",
    "    tpr = dict()\n",
    "    roc_auc = dict()\n",
    "    for i in range(n_classes):\n",
    "        fpr[i], tpr[i], _ = roc_curve(y_test[:, i], y_pred[:, i])\n",
    "        roc_auc[i] = auc(fpr[i], tpr[i])\n",
    "    fpr[\"micro\"], tpr[\"micro\"], _ = roc_curve(y_test.ravel(), y_pred.ravel())\n",
    "    roc_auc[\"micro\"] = auc(fpr[\"micro\"], tpr[\"micro\"])\n",
    "    lw=2\n",
    "    all_fpr = np.unique(np.concatenate([fpr[i] for i in range(n_classes)]))\n",
    "\n",
    "    mean_tpr = np.zeros_like(all_fpr)\n",
    "    for i in range(n_classes):\n",
    "        mean_tpr += np.interp(all_fpr, fpr[i], tpr[i])\n",
    "\n",
    "    mean_tpr /= n_classes\n",
    "\n",
    "    fpr[\"macro\"] = all_fpr\n",
    "    tpr[\"macro\"] = mean_tpr\n",
    "    roc_auc[\"macro\"] = auc(fpr[\"macro\"], tpr[\"macro\"])\n",
    "# Plot all ROC curves\n",
    "    plt.figure(figsize=(10, 10))\n",
    "    plt.plot(fpr[\"micro\"],\n",
    "    tpr[\"micro\"],\n",
    "    label=\"micro-average ROC curve (area = {0:0.2f})\".format(roc_auc[\"micro\"]),\n",
    "    color=\"deeppink\",\n",
    "    linestyle=\":\",\n",
    "    linewidth=4,)\n",
    "\n",
    "    plt.plot(fpr[\"macro\"],\n",
    "    tpr[\"macro\"],\n",
    "    label=\"macro-average ROC curve (area = {0:0.2f})\".format(roc_auc[\"macro\"]),\n",
    "    color=\"navy\",\n",
    "    linestyle=\":\",\n",
    "    linewidth=4,\n",
    ")\n",
    "    colors = cycle([\"aqua\", \"darkorange\", \"cornflowerblue\"])\n",
    "    for i, color in zip(range(n_classes), colors):\n",
    "        plt.plot(\n",
    "           fpr[i],\n",
    "           tpr[i],\n",
    "           color=color,\n",
    "           lw=lw,\n",
    "        label=\"ROC curve of class {0} (area = {1:0.2f})\".format(i, roc_auc[i]),\n",
    "    )\n",
    "\n",
    "    plt.plot([0, 1], [0, 1], \"k--\", lw=lw)\n",
    "    plt.xlim([0.0, 1.0])\n",
    "    plt.ylim([0.0, 1.05])\n",
    "    plt.xlabel(\"False Positive Rate\")\n",
    "    plt.ylabel(\"True Positive Rate\")\n",
    "    plt.title(\"Some extension of Receiver operating characteristic to multiclass\")\n",
    "    plt.legend(loc=\"lower right\")\n",
    "    plt.show()"
   ]
  },
  {
   "cell_type": "code",
   "execution_count": 30,
   "metadata": {
    "execution": {
     "iopub.execute_input": "2022-10-31T16:53:43.528820Z",
     "iopub.status.busy": "2022-10-31T16:53:43.528375Z",
     "iopub.status.idle": "2022-10-31T16:53:43.542486Z",
     "shell.execute_reply": "2022-10-31T16:53:43.541622Z",
     "shell.execute_reply.started": "2022-10-31T16:53:43.528786Z"
    }
   },
   "outputs": [],
   "source": [
    "def Confusion_Matrix(y_test , y_pred):\n",
    "    cnf_matrix = confusion_matrix(y_test, y_pred)\n",
    "    disp = ConfusionMatrixDisplay(confusion_matrix=cnf_matrix )\n",
    "\n",
    "    fig, ax = plt.subplots(figsize=(10,10))\n",
    "    disp.plot(ax=ax)\n",
    "    #disp.plot()\n",
    "    plt.show()"
   ]
  },
  {
   "cell_type": "code",
   "execution_count": 31,
   "metadata": {
    "execution": {
     "iopub.execute_input": "2022-10-31T16:53:43.544494Z",
     "iopub.status.busy": "2022-10-31T16:53:43.544244Z",
     "iopub.status.idle": "2022-10-31T16:55:14.834933Z",
     "shell.execute_reply": "2022-10-31T16:55:14.833788Z",
     "shell.execute_reply.started": "2022-10-31T16:53:43.544470Z"
    }
   },
   "outputs": [
    {
     "name": "stdout",
     "output_type": "stream",
     "text": [
      "--------- Model Evaluations Details --------- \n",
      "\n",
      "25916/25916 [==============================] - 87s 3ms/step - loss: 0.0307 - accuracy: 0.9882\n",
      "\n",
      "Loss: 0.03, Accuracy: 98.82%\n",
      "None\n",
      "---------------------------------------------\n",
      "Micro precision Score is :  0.9882215477667606\n",
      "---------------------------------------------\n",
      "Micro recall Scores is :  0.9882215477667606\n",
      "---------------------------------------------\n",
      "Micro F1 Score is :  0.9882215477667606\n",
      "---------------------------------------------\n",
      "AUC Score is :  {0: 0.9848811645425739, 1: 0.984881164542574}\n",
      "---------------------------------------------\n",
      "Macro precision, recall, F1 Score :  0.9873040353075423 0.9848811645425739 0.9860811550929223\n"
     ]
    }
   ],
   "source": [
    "print(\"--------- Model Evaluations Details --------- \\n\")\n",
    "print(Evaluate(X_test , y_test)) \n",
    "print(\"---------------------------------------------\")\n",
    "print(\"Micro precision Score is : \" , precision(y_test , y_pred_evaluation, \"micro\"))\n",
    "print(\"---------------------------------------------\")\n",
    "print(\"Micro recall Scores is : \" , recall(y_test , y_pred_evaluation, \"micro\"))\n",
    "print(\"---------------------------------------------\")\n",
    "print('Micro F1 Score is : ', F1Score(y_test , y_pred_evaluation, \"micro\"))\n",
    "print(\"---------------------------------------------\")\n",
    "print('AUC Score is : ' , AUC(y_test_argmax, y_pred_argmax))\n",
    "\n",
    "\n",
    "print(\"---------------------------------------------\")\n",
    "print(\"Macro precision, recall, F1 Score : \" , precision(y_test , y_pred_evaluation, \"macro\"), recall(y_test , y_pred_evaluation, \"macro\"), F1Score(y_test , y_pred_evaluation, \"macro\"))"
   ]
  },
  {
   "cell_type": "code",
   "execution_count": 32,
   "metadata": {
    "execution": {
     "iopub.execute_input": "2022-10-31T16:55:14.836716Z",
     "iopub.status.busy": "2022-10-31T16:55:14.836362Z",
     "iopub.status.idle": "2022-10-31T16:55:15.309803Z",
     "shell.execute_reply": "2022-10-31T16:55:15.308872Z",
     "shell.execute_reply.started": "2022-10-31T16:55:14.836687Z"
    }
   },
   "outputs": [
    {
     "data": {
      "text/plain": [
       "Text(0, 0.5, 'Loss')"
      ]
     },
     "execution_count": 32,
     "metadata": {},
     "output_type": "execute_result"
    },
    {
     "data": {
      "image/png": "[encoded data removed]",
      "text/plain": [
       "<Figure size 432x288 with 1 Axes>"
      ]
     },
     "metadata": {
      "needs_background": "light"
     },
     "output_type": "display_data"
    },
    {
     "data": {
      "image/png": "[encoded data removed]",
      "text/plain": [
       "<Figure size 432x288 with 1 Axes>"
      ]
     },
     "metadata": {
      "needs_background": "light"
     },
     "output_type": "display_data"
    }
   ],
   "source": [
    "pd.DataFrame(history.history)\n",
    "\n",
    "pd.DataFrame(history.history)[['accuracy', 'val_accuracy']].plot()\n",
    "plt.title('Training Accuracy')\n",
    "plt.xlabel('Epochs')\n",
    "plt.ylabel('accuracy')\n",
    "\n",
    "pd.DataFrame(history.history)[['loss', 'val_loss']].plot()\n",
    "plt.title('Model Loss')\n",
    "plt.xlabel('Epochs')\n",
    "plt.ylabel('Loss')"
   ]
  },
  {
   "cell_type": "code",
   "execution_count": 33,
   "metadata": {
    "execution": {
     "iopub.execute_input": "2022-10-31T16:55:15.312765Z",
     "iopub.status.busy": "2022-10-31T16:55:15.311708Z",
     "iopub.status.idle": "2022-10-31T16:55:15.895819Z",
     "shell.execute_reply": "2022-10-31T16:55:15.894847Z",
     "shell.execute_reply.started": "2022-10-31T16:55:15.312729Z"
    }
   },
   "outputs": [
    {
     "data": {
      "image/png": "[encoded data removed]",
      "text/plain": [
       "<Figure size 720x720 with 1 Axes>"
      ]
     },
     "metadata": {
      "needs_background": "light"
     },
     "output_type": "display_data"
    }
   ],
   "source": [
    "plot_roc_curve(y_test,y_pred_evaluation)"
   ]
  },
  {
   "cell_type": "code",
   "execution_count": 34,
   "metadata": {
    "execution": {
     "iopub.execute_input": "2022-10-31T16:55:15.897857Z",
     "iopub.status.busy": "2022-10-31T16:55:15.897469Z",
     "iopub.status.idle": "2022-10-31T16:55:16.262799Z",
     "shell.execute_reply": "2022-10-31T16:55:16.261827Z",
     "shell.execute_reply.started": "2022-10-31T16:55:15.897816Z"
    }
   },
   "outputs": [
    {
     "data": {
      "image/png": "[encoded data removed]",
      "text/plain": [
       "<Figure size 720x720 with 2 Axes>"
      ]
     },
     "metadata": {
      "needs_background": "light"
     },
     "output_type": "display_data"
    }
   ],
   "source": [
    "Confusion_Matrix(y_test_argmax , y_pred_argmax)"
   ]
  },
  {
   "cell_type": "code",
   "execution_count": 35,
   "metadata": {
    "execution": {
     "iopub.execute_input": "2022-10-31T16:58:13.618044Z",
     "iopub.status.busy": "2022-10-31T16:58:13.617632Z",
     "iopub.status.idle": "2022-10-31T16:58:13.661041Z",
     "shell.execute_reply": "2022-10-31T16:58:13.659881Z",
     "shell.execute_reply.started": "2022-10-31T16:58:13.618012Z"
    }
   },
   "outputs": [
    {
     "name": "stdout",
     "output_type": "stream",
     "text": [
      "saved model\n"
     ]
    }
   ],
   "source": [
    "model.save(\"parkinson1.h5\")\n",
    "print(\"saved model\")"
   ]
  }
 ],
 "metadata": {
  "kernelspec": {
   "display_name": "Python 3 (ipykernel)",
   "language": "python",
   "name": "python3"
  },
  "language_info": {
   "codemirror_mode": {
    "name": "ipython",
    "version": 3
   },
   "file_extension": ".py",
   "mimetype": "text/x-python",
   "name": "python",
   "nbconvert_exporter": "python",
   "pygments_lexer": "ipython3",
   "version": "3.9.7"
  }
 },
 "nbformat": 4,
 "nbformat_minor": 4
}
